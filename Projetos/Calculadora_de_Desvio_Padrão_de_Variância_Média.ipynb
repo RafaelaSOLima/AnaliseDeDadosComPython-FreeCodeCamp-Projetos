{
 "cells": [
  {
   "cell_type": "markdown",
   "metadata": {},
   "source": [
    "# Calculadora Estatatistica em Matriz 3X3"
   ]
  },
  {
   "cell_type": "markdown",
   "metadata": {},
   "source": [
    "Rode o código abaixo:"
   ]
  },
  {
   "cell_type": "code",
   "execution_count": 31,
   "metadata": {},
   "outputs": [],
   "source": [
    "#importa as bibliotecas necessarias\n",
    "import numpy as np \n",
    "import pandas as pd"
   ]
  },
  {
   "cell_type": "markdown",
   "metadata": {},
   "source": [
    "### Inserir a Lista"
   ]
  },
  {
   "cell_type": "markdown",
   "metadata": {},
   "source": [
    "Rode o código abaixo, e insira sua lista de 9 numeros separados por virgúla e caso o número seja decimal deve ser dividido por ponto. \n",
    "Ex.: [1, 1.4, 1.3, 4, 5, 6, 7, 8.8, 9]"
   ]
  },
  {
   "cell_type": "code",
   "execution_count": 32,
   "metadata": {},
   "outputs": [
    {
     "name": "stdout",
     "output_type": "stream",
     "text": [
      "[0.0, 1.0, 2.0, 3.0, 4.0, 5.0, 6.0, 7.0, 8.0]\n"
     ]
    }
   ],
   "source": [
    "entrada = input()\n",
    "lista = entrada.split(',')\n",
    "\n",
    "# Verifica se todos os elementos podem ser convertidos para float\n",
    "try:\n",
    "    lista_float = [float(num.strip()) for num in lista]\n",
    "except ValueError:\n",
    "    print(\"Aviso: A lista contém elementos que não são float.\")\n",
    "else:\n",
    "    # Verifica o tamanho da lista\n",
    "    if len(lista_float) != 9:\n",
    "        print(\"Aviso: A lista deve conter exatamente 9 números.\")\n",
    "    else:\n",
    "        print(lista_float)"
   ]
  },
  {
   "cell_type": "markdown",
   "metadata": {},
   "source": [
    "### Plotar a Matriz"
   ]
  },
  {
   "cell_type": "markdown",
   "metadata": {},
   "source": [
    "Rode o código abaixo e veja sua matriz:\n",
    "    Caso dê algum erro, atente-se ao tipo do erro e corrija sua lista na fase anterior."
   ]
  },
  {
   "cell_type": "code",
   "execution_count": 33,
   "metadata": {},
   "outputs": [
    {
     "name": "stdout",
     "output_type": "stream",
     "text": [
      "[[0. 1. 2.]\n",
      " [3. 4. 5.]\n",
      " [6. 7. 8.]]\n"
     ]
    }
   ],
   "source": [
    "# Verifica se a lista_float foi criada corretamente\n",
    "if 'lista_float' in locals():\n",
    "    matriz = np.array(lista_float).reshape(3, 3)\n",
    "\n",
    "    def verificar_array(arr):\n",
    "        # Verifica se todos os elementos são float\n",
    "        if not np.issubdtype(arr.dtype, np.floating):\n",
    "            raise ValueError(\"O array deve conter apenas números.\")\n",
    "        # Verifica o tamanho do array\n",
    "        elif arr.size != 9:\n",
    "            raise ValueError(\"O array deve conter nove números.\")\n",
    "        else:\n",
    "            print(arr)\n",
    "\n",
    "    # Verificação do array\n",
    "    verificar_array(matriz)\n"
   ]
  },
  {
   "cell_type": "markdown",
   "metadata": {},
   "source": [
    "## Operações com a matriz\n"
   ]
  },
  {
   "cell_type": "markdown",
   "metadata": {},
   "source": [
    "### Soma"
   ]
  },
  {
   "cell_type": "markdown",
   "metadata": {},
   "source": [
    "#### Soma das Colunas"
   ]
  },
  {
   "cell_type": "code",
   "execution_count": 34,
   "metadata": {},
   "outputs": [
    {
     "name": "stdout",
     "output_type": "stream",
     "text": [
      "A soma de cada coluna 1,2,3 respectivamente é: [ 9. 12. 15.]\n"
     ]
    }
   ],
   "source": [
    "soma_das_colunas = np.sum(matriz, axis=0)\n",
    "print('A soma de cada coluna 1,2,3 respectivamente é:', soma_das_colunas)"
   ]
  },
  {
   "cell_type": "markdown",
   "metadata": {},
   "source": [
    "#### Soma das Linhas"
   ]
  },
  {
   "cell_type": "code",
   "execution_count": 35,
   "metadata": {},
   "outputs": [
    {
     "name": "stdout",
     "output_type": "stream",
     "text": [
      "A soma de cada linha 1,2,3 respectivamente é: [ 3. 12. 21.]\n"
     ]
    }
   ],
   "source": [
    "soma_das_linhas = np.sum(matriz, axis=1)\n",
    "print('A soma de cada linha 1,2,3 respectivamente é:', soma_das_linhas)"
   ]
  },
  {
   "cell_type": "markdown",
   "metadata": {},
   "source": [
    "#### Soma dos Elementos"
   ]
  },
  {
   "cell_type": "code",
   "execution_count": 36,
   "metadata": {},
   "outputs": [
    {
     "name": "stdout",
     "output_type": "stream",
     "text": [
      "A soma de todos os elementos da matriz é: 36.0\n"
     ]
    }
   ],
   "source": [
    "soma_matriz = np.sum(matriz)\n",
    "print('A soma de todos os elementos da matriz é:', soma_matriz)"
   ]
  },
  {
   "cell_type": "code",
   "execution_count": 51,
   "metadata": {},
   "outputs": [
    {
     "name": "stdout",
     "output_type": "stream",
     "text": [
      "[ [ 9. 12. 15.] , [ 3. 12. 21.] ,  36.0 ]\n"
     ]
    }
   ],
   "source": [
    "Soma = [print(\"[\", soma_das_colunas, \",\" , soma_das_linhas,\", \", soma_matriz ,\"]\") ]"
   ]
  },
  {
   "cell_type": "markdown",
   "metadata": {},
   "source": [
    "#### Média\n"
   ]
  },
  {
   "cell_type": "code",
   "execution_count": 57,
   "metadata": {},
   "outputs": [
    {
     "name": "stdout",
     "output_type": "stream",
     "text": [
      "A média dos valores é: 4.0\n"
     ]
    }
   ],
   "source": [
    "média_matriz = np.mean(matriz)\n",
    "print(\"A média dos valores é:\",média_matriz)"
   ]
  },
  {
   "cell_type": "code",
   "execution_count": 53,
   "metadata": {},
   "outputs": [
    {
     "name": "stdout",
     "output_type": "stream",
     "text": [
      "A média dos valores é: [3. 4. 5.]\n"
     ]
    }
   ],
   "source": [
    "média_coluna = np.mean(matriz, axis=0)\n",
    "print(\"A média dos valores é:\",média_coluna)"
   ]
  },
  {
   "cell_type": "code",
   "execution_count": 56,
   "metadata": {},
   "outputs": [
    {
     "name": "stdout",
     "output_type": "stream",
     "text": [
      "A média dos valores é: [1. 4. 7.]\n"
     ]
    }
   ],
   "source": [
    "média_linha = np.mean(matriz, axis= 1)\n",
    "print(\"A média dos valores é:\",média_linha)"
   ]
  },
  {
   "cell_type": "code",
   "execution_count": 58,
   "metadata": {},
   "outputs": [
    {
     "name": "stdout",
     "output_type": "stream",
     "text": [
      "[ [3. 4. 5.] , [1. 4. 7.] ,  4.0 ]\n"
     ]
    }
   ],
   "source": [
    "Média = [print(\"[\", média_coluna, \",\" , média_linha,\", \", média_matriz ,\"]\") ]"
   ]
  },
  {
   "cell_type": "markdown",
   "metadata": {},
   "source": [
    "#### Variância"
   ]
  },
  {
   "cell_type": "code",
   "execution_count": 38,
   "metadata": {},
   "outputs": [
    {
     "name": "stdout",
     "output_type": "stream",
     "text": [
      "A Variância dos valores é: 6.666666666666667\n"
     ]
    }
   ],
   "source": [
    "variancia = np.var(matriz)\n",
    "print(\"A Variância dos valores é:\",variancia)"
   ]
  },
  {
   "cell_type": "markdown",
   "metadata": {},
   "source": [
    "#### Desvio Padrão\n"
   ]
  },
  {
   "cell_type": "code",
   "execution_count": 39,
   "metadata": {},
   "outputs": [
    {
     "name": "stdout",
     "output_type": "stream",
     "text": [
      "O desvio padrão da matriz é: 2.581988897471611\n"
     ]
    }
   ],
   "source": [
    "dp = np.std(matriz)\n",
    "print(\"O desvio padrão da matriz é:\", dp)"
   ]
  },
  {
   "cell_type": "markdown",
   "metadata": {},
   "source": [
    "##### Máximo"
   ]
  },
  {
   "cell_type": "code",
   "execution_count": 40,
   "metadata": {},
   "outputs": [
    {
     "name": "stdout",
     "output_type": "stream",
     "text": [
      "O desvio padrão máx da matriz é: 2.581988897471611\n"
     ]
    }
   ],
   "source": [
    "desvio_padrao_max = np.max(np.std(matriz)) \n",
    "print(\"O desvio padrão máx da matriz é:\", desvio_padrao_max)\n"
   ]
  },
  {
   "cell_type": "markdown",
   "metadata": {},
   "source": [
    "##### Minimo"
   ]
  },
  {
   "cell_type": "code",
   "execution_count": 41,
   "metadata": {},
   "outputs": [
    {
     "name": "stdout",
     "output_type": "stream",
     "text": [
      "O desvio padrão min da matriz é: 2.581988897471611\n"
     ]
    }
   ],
   "source": [
    "desvio_padrao_min = np.min(np.std(matriz))\n",
    "print(\"O desvio padrão min da matriz é:\", desvio_padrao_min)"
   ]
  },
  {
   "cell_type": "code",
   "execution_count": 67,
   "metadata": {},
   "outputs": [
    {
     "ename": "SyntaxError",
     "evalue": "invalid syntax (2618086143.py, line 1)",
     "output_type": "error",
     "traceback": [
      "\u001b[1;36m  Cell \u001b[1;32mIn[67], line 1\u001b[1;36m\u001b[0m\n\u001b[1;33m    Dicionário:\u001b[0m\n\u001b[1;37m               ^\u001b[0m\n\u001b[1;31mSyntaxError\u001b[0m\u001b[1;31m:\u001b[0m invalid syntax\n"
     ]
    }
   ],
   "source": []
  },
  {
   "cell_type": "code",
   "execution_count": null,
   "metadata": {},
   "outputs": [],
   "source": []
  }
 ],
 "metadata": {
  "kernelspec": {
   "display_name": "Python 3",
   "language": "python",
   "name": "python3"
  },
  "language_info": {
   "codemirror_mode": {
    "name": "ipython",
    "version": 3
   },
   "file_extension": ".py",
   "mimetype": "text/x-python",
   "name": "python",
   "nbconvert_exporter": "python",
   "pygments_lexer": "ipython3",
   "version": "3.12.4"
  }
 },
 "nbformat": 4,
 "nbformat_minor": 2
}
