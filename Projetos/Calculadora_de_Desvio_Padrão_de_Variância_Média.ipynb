{
 "cells": [
  {
   "cell_type": "code",
   "execution_count": 7,
   "metadata": {},
   "outputs": [],
   "source": [
    "import numpy as np \n",
    "import tkinter as tk"
   ]
  },
  {
   "cell_type": "code",
   "execution_count": 8,
   "metadata": {},
   "outputs": [
    {
     "name": "stdout",
     "output_type": "stream",
     "text": [
      "['1', '3', '4', '5', '5', '6']\n",
      "['1', '3', '4', '5', '5', '6']\n",
      "['1', '3', '4', '5', '5', '6']\n",
      "['1', '3', '4', '5', '5', '6']\n",
      "['1', '3', '4', '5', '5', '6']\n",
      "['1', '3', '4', '5', '5', '6']\n",
      "['1', '3', '4', '5', '5', '6', '777', '56']\n"
     ]
    }
   ],
   "source": []
  },
  {
   "cell_type": "code",
   "execution_count": 2,
   "metadata": {},
   "outputs": [
    {
     "name": "stdout",
     "output_type": "stream",
     "text": [
      "insira seus digitos separados por vírgula:\n"
     ]
    }
   ],
   "source": [
    "print(\"insira seus digitos separados por vírgula:\")"
   ]
  },
  {
   "cell_type": "code",
   "execution_count": null,
   "metadata": {},
   "outputs": [],
   "source": []
  }
 ],
 "metadata": {
  "kernelspec": {
   "display_name": "Python 3",
   "language": "python",
   "name": "python3"
  },
  "language_info": {
   "codemirror_mode": {
    "name": "ipython",
    "version": 3
   },
   "file_extension": ".py",
   "mimetype": "text/x-python",
   "name": "python",
   "nbconvert_exporter": "python",
   "pygments_lexer": "ipython3",
   "version": "3.12.4"
  }
 },
 "nbformat": 4,
 "nbformat_minor": 2
}
