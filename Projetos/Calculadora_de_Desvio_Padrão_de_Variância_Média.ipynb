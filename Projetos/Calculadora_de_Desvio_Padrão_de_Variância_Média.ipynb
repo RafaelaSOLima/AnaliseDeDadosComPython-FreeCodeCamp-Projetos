{
 "cells": [
  {
   "cell_type": "markdown",
   "metadata": {},
   "source": [
    "# Calculadora Estatatistica em Matriz 3X3"
   ]
  },
  {
   "cell_type": "markdown",
   "metadata": {},
   "source": [
    "Rode o código abaixo:"
   ]
  },
  {
   "cell_type": "code",
   "execution_count": 26,
   "metadata": {},
   "outputs": [],
   "source": [
    "#importa as bibliotecas necessarias\n",
    "import numpy as np \n",
    "import pandas as pd"
   ]
  },
  {
   "cell_type": "markdown",
   "metadata": {},
   "source": [
    "### Inserir a Lista"
   ]
  },
  {
   "cell_type": "markdown",
   "metadata": {},
   "source": [
    "Rode o código abaixo, e insira sua lista de 9 numeros separados por virgúla e caso o número seja decimal deve ser dividido por ponto. \n",
    "Ex.: [1, 1.4, 1.3, 4, 5, 6, 7, 8.8, 9]"
   ]
  },
  {
   "cell_type": "code",
   "execution_count": null,
   "metadata": {},
   "outputs": [],
   "source": [
    "entrada = input()\n",
    "lista = entrada.split(',')\n",
    "\n",
    "# Verifica se todos os elementos podem ser convertidos para float\n",
    "try:\n",
    "    lista_float = [float(num.strip()) for num in lista]\n",
    "except ValueError:\n",
    "    print(\"Aviso: A lista contém elementos que não são float.\")\n",
    "else:\n",
    "    # Verifica o tamanho da lista\n",
    "    if len(lista_float) != 9:\n",
    "        print(\"Aviso: A lista deve conter exatamente 9 números.\")\n",
    "    else:\n",
    "        print(lista_float)"
   ]
  },
  {
   "cell_type": "markdown",
   "metadata": {},
   "source": [
    "### Plotar a Matriz"
   ]
  },
  {
   "cell_type": "markdown",
   "metadata": {},
   "source": [
    "Rode o código abaixo e veja sua matriz:\n",
    "    Caso dê algum erro, atente-se ao tipo do erro e corrija sua lista na fase anterior."
   ]
  },
  {
   "cell_type": "code",
   "execution_count": 49,
   "metadata": {},
   "outputs": [
    {
     "name": "stdout",
     "output_type": "stream",
     "text": [
      "[[1. 2. 3.]\n",
      " [4. 5. 6.]\n",
      " [7. 8. 9.]]\n"
     ]
    }
   ],
   "source": [
    "# Verifica se a lista_float foi criada corretamente\n",
    "if 'lista_float' in locals():\n",
    "    matriz = np.array(lista_float).reshape(3, 3)\n",
    "\n",
    "    def verificar_array(arr):\n",
    "        # Verifica se todos os elementos são float\n",
    "        if not np.issubdtype(arr.dtype, np.floating):\n",
    "            raise ValueError(\"O array deve conter apenas números.\")\n",
    "        # Verifica o tamanho do array\n",
    "        elif arr.size != 9:\n",
    "            raise ValueError(\"O array deve conter nove números.\")\n",
    "        else:\n",
    "            print(arr)\n",
    "\n",
    "    # Verificação do array\n",
    "    verificar_array(matriz)\n"
   ]
  },
  {
   "cell_type": "markdown",
   "metadata": {},
   "source": [
    "### Operações com a matriz\n"
   ]
  },
  {
   "cell_type": "markdown",
   "metadata": {},
   "source": [
    "#### Soma das Colunas"
   ]
  },
  {
   "cell_type": "code",
   "execution_count": 50,
   "metadata": {},
   "outputs": [
    {
     "name": "stdout",
     "output_type": "stream",
     "text": [
      "A soma de cada coluna 1,2,3 respectivamente é: [12. 15. 18.]\n"
     ]
    }
   ],
   "source": [
    "soma_das_colunas = np.sum(matriz, axis=0)\n",
    "print('A soma de cada coluna 1,2,3 respectivamente é:', soma_das_colunas)"
   ]
  },
  {
   "cell_type": "markdown",
   "metadata": {},
   "source": [
    "#### Soma das Linhas"
   ]
  },
  {
   "cell_type": "code",
   "execution_count": 52,
   "metadata": {},
   "outputs": [
    {
     "name": "stdout",
     "output_type": "stream",
     "text": [
      "A soma de cada linha 1,2,3 respectivamente é: [ 6. 15. 24.]\n"
     ]
    }
   ],
   "source": [
    "soma_das_linhas = np.sum(matriz, axis=1)\n",
    "print('A soma de cada linha 1,2,3 respectivamente é:', soma_das_linhas)"
   ]
  },
  {
   "cell_type": "markdown",
   "metadata": {},
   "source": [
    "#### Soma dos Elementos"
   ]
  },
  {
   "cell_type": "code",
   "execution_count": 54,
   "metadata": {},
   "outputs": [
    {
     "name": "stdout",
     "output_type": "stream",
     "text": [
      "A soma de todos os elementos da matriz é: 45.0\n"
     ]
    }
   ],
   "source": [
    "soma_matriz = np.sum(matriz)\n",
    "print('A soma de todos os elementos da matriz é:', soma_matriz)"
   ]
  },
  {
   "cell_type": "markdown",
   "metadata": {},
   "source": [
    "#### Variância"
   ]
  },
  {
   "cell_type": "markdown",
   "metadata": {},
   "source": [
    "#### Média\n"
   ]
  },
  {
   "cell_type": "markdown",
   "metadata": {},
   "source": [
    "#### Desvio Padrão\n"
   ]
  },
  {
   "cell_type": "markdown",
   "metadata": {},
   "source": [
    "##### Máximo"
   ]
  },
  {
   "cell_type": "markdown",
   "metadata": {},
   "source": [
    "##### Minimo"
   ]
  },
  {
   "cell_type": "markdown",
   "metadata": {},
   "source": []
  }
 ],
 "metadata": {
  "kernelspec": {
   "display_name": "Python 3",
   "language": "python",
   "name": "python3"
  },
  "language_info": {
   "codemirror_mode": {
    "name": "ipython",
    "version": 3
   },
   "file_extension": ".py",
   "mimetype": "text/x-python",
   "name": "python",
   "nbconvert_exporter": "python",
   "pygments_lexer": "ipython3",
   "version": "3.12.4"
  }
 },
 "nbformat": 4,
 "nbformat_minor": 2
}
